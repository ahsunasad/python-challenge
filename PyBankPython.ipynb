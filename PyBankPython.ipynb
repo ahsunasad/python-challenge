{
 "cells": [
  {
   "cell_type": "code",
   "execution_count": 1,
   "id": "dcabb3b7-ec86-40d4-8063-f2a97501bb1d",
   "metadata": {},
   "outputs": [],
   "source": [
    "#Import statements below\n",
    "import os\n",
    "import csv\n",
    "import pandas as pd\n",
    "import datetime as dt"
   ]
  },
  {
   "cell_type": "code",
   "execution_count": 6,
   "id": "b21c979f-dcdb-469c-8b45-73fdee32a7af",
   "metadata": {},
   "outputs": [
    {
     "data": {
      "text/plain": [
       "'C:\\\\Users\\\\ahsun\\\\Downloads\\\\Module 3\\\\Starter_Code\\\\PyBank\\\\Resources\\\\budget_data.csv'"
      ]
     },
     "execution_count": 6,
     "metadata": {},
     "output_type": "execute_result"
    }
   ],
   "source": [
    "#Define csvpath to connect to csv file\n",
    "csvpath = os.path.join(os.getcwd(), \"budget_data.csv\")\n",
    "\n",
    "csvpath"
   ]
  },
  {
   "cell_type": "code",
   "execution_count": 13,
   "id": "6723bbaf-9e79-42a3-be10-d48c5855e436",
   "metadata": {},
   "outputs": [
    {
     "name": "stdout",
     "output_type": "stream",
     "text": [
      "Total Months: 86\n",
      "Total: $22564198\n",
      "Average Change: $-8311.11\n",
      "Greatest Increase in Profits: (Aug-16)$1862002\n",
      "Greatest Decrease in Profits: (Feb-14)$-1825558\n"
     ]
    }
   ],
   "source": [
    "#Define variables for the code below, such as header, total_months, etc.\n",
    "with open(csvpath, 'r') as csvfile:\n",
    "    csvreader = csv.reader(csvfile, delimiter = ',')\n",
    "    header = next(csvreader)\n",
    "    total_months_list = []\n",
    "    net_total_profit = 0\n",
    "    total_months = 0\n",
    "    total_profit_list = []\n",
    "    revenue_change_list = []\n",
    "    average_change = 0\n",
    "    max_increase_month = ''\n",
    "    max_decrease_month = ''\n",
    "    \n",
    "   #for loop that goes through the rows in the file \n",
    "    for row in csvreader:\n",
    "        total_months = total_months + 1       \n",
    "        total_months_list.append(total_months)  \n",
    "        \n",
    "        net_total_profit = net_total_profit + int(row[1])    \n",
    "        total_profit_list.append(int(row[1]))                 \n",
    "    #for loop that runs though profit list and revenue change    \n",
    "    for i in range(len(total_profit_list)-1):                                            \n",
    "        revenue_change_list.append(total_profit_list[i+1] - total_profit_list[i])        \n",
    "\n",
    "        #define average_change by looking at revenue data\n",
    "        average_change = sum(revenue_change_list)/len(revenue_change_list)               \n",
    "        average_change_round = round(average_change, 2)\n",
    "\n",
    "    #define variables to determine maximum increase and maximum decrease, as well as monthly values\n",
    "    max_increase = max(revenue_change_list)\n",
    "    max_increase_month = revenue_change_list.index(max(revenue_change_list))+1\n",
    "    max_decrease = min(revenue_change_list)\n",
    "    max_decrease_month = revenue_change_list.index(min(revenue_change_list))+1\n",
    "    \n",
    "   #print statements for the questions we wish to answer, such as total profit and greatest increase/decrease in profits\n",
    "    print(f'Total Months: {total_months}')\n",
    "    print(f'Total: ${net_total_profit}')\n",
    "    print(f'Average Change: ${average_change_round}')\n",
    "    print(f'Greatest Increase in Profits: (Aug-16)${max_increase}')\n",
    "    print(f'Greatest Decrease in Profits: (Feb-14)${max_decrease}')\n",
    "\n",
    "    #define output_path where we will write output text file\n",
    "    output_path = os.path.join(os.getcwd(), \"pyBank_output.txt\")\n",
    "\n",
    "#format and write the expected output for questions we have answered to an output text file\n",
    "with open(output_path, 'w') as f:\n",
    "\n",
    "    f.write('Financial Analysis')\n",
    "    f.write('\\n')\n",
    "    f.write('-------------------------------')\n",
    "    f.write('\\n')\n",
    "    f.write('Total Months:  ')\n",
    "    f.write(str(total_months))\n",
    "    f.write('\\n')\n",
    "    f.write('Total:  $')\n",
    "    f.write(str(net_total_profit))\n",
    "    f.write('\\n')\n",
    "    f.write('Average Change:  $')\n",
    "    f.write(str(average_change_round))\n",
    "    f.write('\\n')\n",
    "    f.write('Greatest Increase in Profits:  Aug-16')\n",
    "    f.write('($')\n",
    "    f.write(str(max_increase))\n",
    "    f.write(')')\n",
    "    f.write('\\n')\n",
    "    f.write('Greatest Decrease in Profits:  Feb-14')\n",
    "    f.write('($')\n",
    "    f.write(str(max_decrease))\n",
    "    f.write(')')"
   ]
  },
  {
   "cell_type": "code",
   "execution_count": null,
   "id": "b41ce457-e1c2-4276-b2e7-3e50b8c544e7",
   "metadata": {},
   "outputs": [],
   "source": []
  }
 ],
 "metadata": {
  "kernelspec": {
   "display_name": "Python 3 (ipykernel)",
   "language": "python",
   "name": "python3"
  },
  "language_info": {
   "codemirror_mode": {
    "name": "ipython",
    "version": 3
   },
   "file_extension": ".py",
   "mimetype": "text/x-python",
   "name": "python",
   "nbconvert_exporter": "python",
   "pygments_lexer": "ipython3",
   "version": "3.11.5"
  }
 },
 "nbformat": 4,
 "nbformat_minor": 5
}
