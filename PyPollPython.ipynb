{
 "cells": [
  {
   "cell_type": "code",
   "execution_count": 12,
   "id": "c050d09a-0f60-4085-a215-09f0237d78fa",
   "metadata": {},
   "outputs": [],
   "source": [
    "#Import statements below\n",
    "import os\n",
    "import csv\n",
    "import pandas as pd\n",
    "import datetime as dt"
   ]
  },
  {
   "cell_type": "code",
   "execution_count": 13,
   "id": "0419e792-c60a-4a95-bf0b-4022c1898452",
   "metadata": {},
   "outputs": [
    {
     "data": {
      "text/plain": [
       "'C:\\\\Users\\\\ahsun\\\\Downloads\\\\Module 3\\\\Starter_Code\\\\PyPoll\\\\Resources\\\\election_data.csv'"
      ]
     },
     "execution_count": 13,
     "metadata": {},
     "output_type": "execute_result"
    }
   ],
   "source": [
    "#Define csvpath to connect to csv file\n",
    "csvpath = os.path.join(os.getcwd(), \"election_data.csv\")\n",
    "\n",
    "csvpath"
   ]
  },
  {
   "cell_type": "code",
   "execution_count": 14,
   "id": "a68b8db7-d604-425f-84e4-02ad3a8921dc",
   "metadata": {},
   "outputs": [
    {
     "name": "stdout",
     "output_type": "stream",
     "text": [
      "Election Results\n",
      "----------------------------------------\n",
      "Total Votes: 369,711\n",
      "----------------------------------------\n",
      "Charles Casper Stockham: 23.049% (85,213)\n",
      "Diana DeGette: 73.812% (272,892)\n",
      "Raymon Anthony Doane: 3.139% (11,606)\n",
      "----------------------------------------\n",
      "Winner: Diana DeGette\n",
      "-----------------------------------------\n"
     ]
    }
   ],
   "source": [
    "# Create csvreader variable to read through te csv file\n",
    "with open(csvpath, newline=\"\", encoding=\"utf-8\") as csvfile:\n",
    "    csvreader = csv.reader(csvfile, delimiter=\",\")\n",
    "\n",
    "  #Define variables to read through the rows of the file\n",
    "    next(csvreader)\n",
    "    data = list(csvreader)\n",
    "    row_count = len(data)\n",
    "\n",
    "   #Define 'candi_list' to go through the list of all candidates\n",
    "    candi_list = list()\n",
    "    tally = list()\n",
    "    \n",
    "    #For loop goes through candidate list\n",
    "    for i in range (0,row_count):\n",
    "        candidate = data[i][2]\n",
    "        tally.append(candidate)\n",
    "        if candidate not in candi_list: \n",
    "            candi_list.append(candidate)\n",
    "    #Define variable 'candi_count' for the length of the candiate list, to be used in calculations and to return correct code\n",
    "    candi_count = len(candi_list)\n",
    "\n",
    "  #Define varaibles to determine the votes each candidate got and calculate perentage they received out of total votes\n",
    "    votes = list()\n",
    "    percentage = list()\n",
    "\n",
    "    #Create a for loop to calculate percentage of vote each candidate received\n",
    "    for j in range (0,candi_count):\n",
    "        name = candi_list[j]\n",
    "        votes.append(tally.count(name))\n",
    "        vprct = votes[j]/row_count\n",
    "        percentage.append(vprct)\n",
    "\n",
    "    #Define variable for the 'winner' of the election\n",
    "    winner = votes.index(max(votes))    \n",
    "\n",
    "  # Print the results based on the questions we want to answer: Whhat were the total votes, and what percentage did each candidate get\n",
    "    #Also print out the overall winner of the election\n",
    "    print(\"Election Results\")\n",
    "    print(\"----------------------------------------\")\n",
    "    print(f\"Total Votes: {row_count:,}\")\n",
    "    print(\"----------------------------------------\")\n",
    "    for k in range (0,candi_count): \n",
    "        print(f\"{candi_list[k]}: {percentage[k]:.3%} ({votes[k]:,})\")\n",
    "    print(\"----------------------------------------\")\n",
    "    print(f\"Winner: {candi_list[winner]}\")\n",
    "    print(\"-----------------------------------------\")\n",
    "\n",
    "  #Alternatively, write and cleanly format the results to an output 'PyPollOutput' text file\n",
    "    print(\"Election Results\", file=open(\"PyPollOutput.txt\", \"a\"))\n",
    "    print(\"----------------------------------\", file=open(\"PyPollOutput.txt\", \"a\"))\n",
    "    print(f\"Total Votes: {row_count:,}\", file=open(\"PyPollOutput.txt\", \"a\"))\n",
    "    print(\"-----------------------------------\", file=open(\"PyPollOutput.txt\", \"a\"))\n",
    "    for k in range (0,candi_count): \n",
    "        print(f\"{candi_list[k]}: {percentage[k]:.3%} ({votes[k]:,})\", file=open(\"PyPollOutput.txt\", \"a\"))\n",
    "    print(\"----------------------------------\", file=open(\"PyPollOutput.txt\", \"a\"))\n",
    "    print(f\"Winner: {candi_list[winner]}\", file=open(\"PyPollOutput.txt\", \"a\"))\n",
    "    print(\"-----------------------------------\", file=open(\"PyPollOutput.txt\", \"a\"))"
   ]
  },
  {
   "cell_type": "code",
   "execution_count": null,
   "id": "5dfed787-7974-4a06-9a76-6effbac4bfc4",
   "metadata": {},
   "outputs": [],
   "source": []
  }
 ],
 "metadata": {
  "kernelspec": {
   "display_name": "Python 3 (ipykernel)",
   "language": "python",
   "name": "python3"
  },
  "language_info": {
   "codemirror_mode": {
    "name": "ipython",
    "version": 3
   },
   "file_extension": ".py",
   "mimetype": "text/x-python",
   "name": "python",
   "nbconvert_exporter": "python",
   "pygments_lexer": "ipython3",
   "version": "3.11.5"
  }
 },
 "nbformat": 4,
 "nbformat_minor": 5
}
